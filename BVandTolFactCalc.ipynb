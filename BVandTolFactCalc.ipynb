{
 "cells": [
  {
   "cell_type": "code",
   "execution_count": 46,
   "metadata": {},
   "outputs": [],
   "source": [
    "# A script to calculate tolerance factors of ABX3 perovskites using bond valences from 2016\n",
    "# Data from the International Union of Crystallography\n",
    "# Author: Nick Wagner\n",
    "import pandas as pd\n",
    "import numpy as np\n",
    "import matplotlib.pyplot as plt\n",
    "import pymatgen as mg\n",
    "from pymatgen.analysis.bond_valence import calculate_bv_sum, calculate_bv_sum_unordered, BVAnalyzer\n",
    "import sys\n",
    "import re"
   ]
  },
  {
   "cell_type": "code",
   "execution_count": 2,
   "metadata": {},
   "outputs": [
    {
     "data": {
      "text/html": [
       "<div>\n",
       "<style>\n",
       "    .dataframe thead tr:only-child th {\n",
       "        text-align: right;\n",
       "    }\n",
       "\n",
       "    .dataframe thead th {\n",
       "        text-align: left;\n",
       "    }\n",
       "\n",
       "    .dataframe tbody tr th {\n",
       "        vertical-align: top;\n",
       "    }\n",
       "</style>\n",
       "<table border=\"1\" class=\"dataframe\">\n",
       "  <thead>\n",
       "    <tr style=\"text-align: right;\">\n",
       "      <th></th>\n",
       "      <th>Atom1</th>\n",
       "      <th>Atom1_valence</th>\n",
       "      <th>Atom2</th>\n",
       "      <th>Atom2_valence</th>\n",
       "      <th>Ro</th>\n",
       "      <th>B</th>\n",
       "      <th>ref_id</th>\n",
       "    </tr>\n",
       "  </thead>\n",
       "  <tbody>\n",
       "    <tr>\n",
       "      <th>0</th>\n",
       "      <td>Ac</td>\n",
       "      <td>3</td>\n",
       "      <td>O</td>\n",
       "      <td>-2</td>\n",
       "      <td>2.240</td>\n",
       "      <td>0.370</td>\n",
       "      <td>b</td>\n",
       "    </tr>\n",
       "    <tr>\n",
       "      <th>1</th>\n",
       "      <td>Ac</td>\n",
       "      <td>3</td>\n",
       "      <td>F</td>\n",
       "      <td>-1</td>\n",
       "      <td>2.130</td>\n",
       "      <td>0.370</td>\n",
       "      <td>b</td>\n",
       "    </tr>\n",
       "    <tr>\n",
       "      <th>2</th>\n",
       "      <td>Ac</td>\n",
       "      <td>3</td>\n",
       "      <td>Cl</td>\n",
       "      <td>-1</td>\n",
       "      <td>2.630</td>\n",
       "      <td>0.370</td>\n",
       "      <td>b</td>\n",
       "    </tr>\n",
       "    <tr>\n",
       "      <th>3</th>\n",
       "      <td>Ac</td>\n",
       "      <td>3</td>\n",
       "      <td>Br</td>\n",
       "      <td>-1</td>\n",
       "      <td>2.750</td>\n",
       "      <td>0.400</td>\n",
       "      <td>p</td>\n",
       "    </tr>\n",
       "    <tr>\n",
       "      <th>4</th>\n",
       "      <td>Ag</td>\n",
       "      <td>1</td>\n",
       "      <td>O</td>\n",
       "      <td>-2</td>\n",
       "      <td>1.875</td>\n",
       "      <td>0.359</td>\n",
       "      <td>bs</td>\n",
       "    </tr>\n",
       "  </tbody>\n",
       "</table>\n",
       "</div>"
      ],
      "text/plain": [
       "  Atom1  Atom1_valence Atom2  Atom2_valence     Ro      B ref_id\n",
       "0    Ac              3     O             -2  2.240  0.370      b\n",
       "1    Ac              3     F             -1  2.130  0.370      b\n",
       "2    Ac              3    Cl             -1  2.630  0.370      b\n",
       "3    Ac              3    Br             -1  2.750  0.400      p\n",
       "4    Ag              1     O             -2  1.875  0.359     bs"
      ]
     },
     "execution_count": 2,
     "metadata": {},
     "output_type": "execute_result"
    }
   ],
   "source": [
    "bv = pd.read_csv(\"../data/Bond_valences2016.csv\")\n",
    "bv.head()"
   ]
  },
  {
   "cell_type": "code",
   "execution_count": 3,
   "metadata": {
    "collapsed": true
   },
   "outputs": [],
   "source": [
    "# Use element names and valences to lookup bond valence\n",
    "def get_bv_params(cation, anion, cat_val, an_val):\n",
    "    bond_val_list = bv[(bv['Atom1'] == cation) & (bv['Atom1_valence'] == cat_val)\\\n",
    "                  & (bv['Atom2'] == anion) & (bv['Atom2_valence'] == an_val)]\n",
    "    return bond_val_list.iloc[0] # If multiple values exist, take first one"
   ]
  },
  {
   "cell_type": "code",
   "execution_count": 4,
   "metadata": {
    "collapsed": true
   },
   "outputs": [],
   "source": [
    "# A function to calculate a generalized Goldschmidt tolerance factor for perovskites and RP phases\n",
    "def calc_tol_factor(ion_list, valence_list, rp=0):\n",
    "    if len(ion_list) > 4 or len(ion_list) < 3:\n",
    "        print(\"Error: there should be three or four elements\")\n",
    "        return None\n",
    "    if len(ion_list) < 4:\n",
    "        for i in range(len(valence_list)): # If charge is 2-, make -2 to match tables\n",
    "            if valence_list[i][-1] == '-':\n",
    "                valence_list[i] = valence_list[i][-1] + valence_list[i][:-1]\n",
    "        for i in range(len(valence_list)): # Similarly, change 2+ to 2\n",
    "            valence_list[i] = int(valence_list[i].strip(\"+\"))\n",
    "        \n",
    "    if len(ion_list) == 4:\n",
    "#         print(\"RED ALERT: We are taking averages of bond valence parameters\")\n",
    "        AO_value1 = get_bv_params(ion_list[0], ion_list[-1], valence_list[0], valence_list[-1])\n",
    "        AO_value2 = get_bv_params(ion_list[1], ion_list[-1], valence_list[1], valence_list[-1])\n",
    "        AO_values = np.concatenate([AO_value1.values.reshape(1, len(AO_value1)), \n",
    "                                    AO_value2.values.reshape(1, len(AO_value2))])\n",
    "        AO_B = np.average(AO_values[:, 4])\n",
    "        AO_Ro = np.average(AO_values[:, 5])\n",
    "        AO_valence = np.average(AO_values[:, 1]) # RED ALERT: We are taking averages of bond valence parameters\n",
    "    else:\n",
    "        AO_row = get_bv_params(ion_list[0], ion_list[-1], valence_list[0], valence_list[-1])\n",
    "    \n",
    "    BO_row = get_bv_params(ion_list[-2], ion_list[-1], valence_list[-2], valence_list[-1])\n",
    "    \n",
    "    \n",
    "    if len(ion_list) != 4:\n",
    "        if rp == 0:\n",
    "            AO_bv = AO_row['Ro']-AO_row['B'] * np.log(AO_row['Atom1_valence']/12)\n",
    "            BO_bv = BO_row['Ro']-BO_row['B'] * np.log(BO_row['Atom1_valence']/6)               \n",
    "        else: # Currently for Ruddlesden-Popper phases a naive weighted sum is used between A-site coordination of \n",
    "              # 9 in the rocksalt layer and 12 in perovskite\n",
    "            AO_bv = AO_row['Ro']-AO_row['B'] * np.log(AO_row['Atom1_valence']/((9+12*(rp-1))/rp))\n",
    "            BO_bv = BO_row['Ro']-BO_row['B'] * np.log(BO_row['Atom1_valence']/6)\n",
    "    else:\n",
    "        if rp == 0:\n",
    "            AO_bv = AO_Ro-AO_B * np.log(AO_valence/12)\n",
    "            BO_bv = BO_row['Ro']-BO_row['B'] * np.log(BO_row['Atom1_valence']/6)               \n",
    "        else: # Currently for Ruddlesden-Popper phases a naive weighted sum is used between A-site coordination of \n",
    "              # 9 in the rocksalt layer and 12 in perovskite\n",
    "            AO_bv = AO_Ro-AO_B * np.log(AO_valence/((9+12*(rp-1))/rp))\n",
    "            BO_bv = BO_row['Ro']-BO_row['B'] * np.log(BO_row['Atom1_valence']/6)\n",
    "    \n",
    "    tol_fact = AO_bv / (2**0.5 * BO_bv)\n",
    "    \n",
    "    return tol_fact\n"
   ]
  },
  {
   "cell_type": "code",
   "execution_count": 6,
   "metadata": {},
   "outputs": [
    {
     "name": "stdout",
     "output_type": "stream",
     "text": [
      "1.09630165911\n",
      "1.07615743313\n"
     ]
    }
   ],
   "source": [
    "# Test using BaMnO3\n",
    "# Should return 1.09630165911 for perovskite and 1.07615743313 for rp=2\n",
    "print(calc_tol_factor(['Ba', 'Mn','O'], ['2+', '4+', '2-']))\n",
    "print(calc_tol_factor(['Ba', 'Mn','O'], ['2+', '4+', '2-'], rp=2))"
   ]
  },
  {
   "cell_type": "code",
   "execution_count": 5,
   "metadata": {
    "collapsed": true
   },
   "outputs": [],
   "source": [
    "def compute_bv(params, pair):\n",
    "    bv = np.exp((params['Ro']- pair[1])/params['B'])\n",
    "    return bv"
   ]
  },
  {
   "cell_type": "code",
   "execution_count": 83,
   "metadata": {
    "collapsed": true
   },
   "outputs": [],
   "source": [
    "def isanion(atom, anions=['O', 'S', 'F', 'Cl']):\n",
    "    #print \"in isanion fun... atom is {} and anions are {}\".format(atom, anions)\n",
    "    check = atom in anions\n",
    "    return check\n",
    "\n",
    "def iscation(atom, cations=[]):\n",
    "    check = atom not in ['O', 'S', 'F', 'Cl'] \n",
    "    return check    \n",
    "\n",
    "\n",
    "def gii_compute(struct, formal_val={}):\n",
    "    '''\n",
    "    Will compite the global instability index of a structure provided you give a dictionary of valences\n",
    "    for each species.\n",
    "    \n",
    "    This code will not work if you have true non-integer valences.\n",
    "    \n",
    "    Inputs: \n",
    "    \n",
    "    struct     - a Pymatgen structure object\n",
    "    formal_val - a dictionary mapping each element to its formal valence number\n",
    "    \n",
    "    TODO:\n",
    "    1. Add support for sites with multiple occupancy but species having only one integer valence\n",
    "    2. Add ability to specify valence for each site to deal with charge ordering.\n",
    "    '''\n",
    "    el = struct.species_and_occu[0].elements[0].symbol\n",
    "    cutoff = 6\n",
    "    pymat_neighbors = struct.get_all_neighbors(cutoff, include_index=True)\n",
    "    if not formal_val:\n",
    "        print(\"Please specify formal valences of all species. Returning None\")\n",
    "        return\n",
    "    \n",
    "    # for loop to calculate the BV sum on each atom\n",
    "    bv_diffs = []\n",
    "    for atom_indx, neighbors in enumerate(pymat_neighbors):\n",
    "        bv = {} # Dictionary for bond valence sum of each species\n",
    "        atom = struct.species_and_occu[atom_indx].as_dict() # Dictionary of species and \n",
    "                                                            # their occupancies at the site\n",
    "        for key in atom.keys():\n",
    "            new_name = re.sub(r'[^a-zA-Z ]+', '', key) # Strip out numbers and symbols from the element names\n",
    "            atom[new_name] = atom.pop(key)\n",
    "            bv[new_name] = 0\n",
    "        \n",
    "        \n",
    "        for pair in neighbors:\n",
    "            neighbor = struct.species_and_occu[pair[2]].as_dict()\n",
    "            for key in neighbor.keys(): \n",
    "                new_name = re.sub(r'[^a-zA-Z ]+', '', key)\n",
    "                neighbor[new_name] = neighbor.pop(key)\n",
    "                \n",
    "            for species1 in list(atom): # Iterate over dictionary keys aka elemental species\n",
    "                for species2 in list(neighbor):\n",
    "                    try:\n",
    "                        if iscation(species1) and isanion(species2):\n",
    "                            params = get_bv_params(cation=species1, anion=species2, \n",
    "                                                   cat_val=float(formal_val[species1]), \n",
    "                                                   an_val=float(formal_val[species2]))\n",
    "                            bv[species1] += compute_bv(params, pair)\n",
    "                        elif iscation(species2) and isanion(species1):\n",
    "                            params = get_bv_params(cation=species2, anion=species1, \n",
    "                                                   cat_val=float(formal_val[species2]), \n",
    "                                                   an_val=float(formal_val[species1]))\n",
    "                            bv[species1] += neighbor[species2]*compute_bv(params, pair)\n",
    "                    except:\n",
    "                        print(\"Trouble with atom: {} and neighbor: {} in {}\".format(species1, species2, \n",
    "                                                                                    struct.formula))\n",
    "                        print('Looking for +/- 1 similar cation valence states in BV table')\n",
    "                        try:\n",
    "                            if iscation(species1) and isanion(species2):\n",
    "                                params = get_bv_params(cation=species1, anion=species2, \n",
    "                                           cat_val=float(formal_val[species1])+1, \n",
    "                                                       an_val=float(formal_val[species2]))\n",
    "                                bv[species1] += compute_bv(params, pair)\n",
    "                            elif iscation(species2) and isanion(species1):\n",
    "                                params = get_bv_params(cation=species2, anion=species1, \n",
    "                                           cat_val=float(formal_val[species2])+1, an_val=float(formal_val[species1]))\n",
    "                                bv[species1] += compute_bv(params, pair)\n",
    "                            formal_val[species1] = float(formal_val[species1])+1\n",
    "                        except:\n",
    "                            try:\n",
    "                                if iscation(species1) and isanion(species2):\n",
    "                                    params = get_bv_params(cation=species1, anion=species2, \n",
    "                                           cat_val=float(formal_val[species1])+1, an_val=float(formal_val[species2]))\n",
    "                                    bv[species1] += compute_bv(params, pair)\n",
    "                                elif iscation(species2) and isanion(species1):\n",
    "                                    params = get_bv_params(cation=species2, anion=species1, \n",
    "                                           cat_val=float(formal_val[species2])+1, \n",
    "                                                           an_val=float(formal_val[species1]))\n",
    "                                    bv[species1] += compute_bv(params, pair)\n",
    "                                formal_val[species1] = float(formal_val[species1])-1\n",
    "                            except:\n",
    "                                print(\"No similar valence states found. Returning None\")\n",
    "                                return None\n",
    "                            \n",
    "                            \n",
    "                            \n",
    "                            \n",
    "#         print('Atom: {}, BV: {}'.format(struct.species[atom_indx].symbol, bv))\n",
    "        \n",
    "        weighted_val_diff = 0.0\n",
    "        for key in list(atom): # Compute the weighted average formal valence in case of multiple occupancy\n",
    "            formal_valence = abs(float(formal_val[key]))\n",
    "            weighted_val_diff += atom[key] * (formal_valence - bv[key])\n",
    "            print(\"Bond valence of {}: {}\".format(key,bv[key]))\n",
    "        bv_diffs.append(np.power(weighted_val_diff, 2))\n",
    "        \n",
    "#         print('BV_diffs: {}'.format(bv_diffs))\n",
    "        \n",
    "    GII_val = np.sqrt(np.sum(bv_diffs)/struct.composition.num_atoms)\n",
    "    return GII_val"
   ]
  },
  {
   "cell_type": "code",
   "execution_count": 67,
   "metadata": {
    "collapsed": true
   },
   "outputs": [],
   "source": [
    "def bv_sum(atom, ):\n",
    "    if iscation(atom) and isanion(neighbor):\n",
    "        params = get_bv_params(cation=atom, anion=neighbor, cat_val=float(formal_val[atom]), \n",
    "                               an_val=float(formal_val[neighbor]))\n",
    "        bv += compute_bv(params, pair)\n",
    "    elif iscation(neighbor) and isanion(atom):\n",
    "        params = get_bv_params(cation=neighbor, anion=atom, cat_val=float(formal_val[neighbor]), \n",
    "                               an_val=float(formal_val[atom]))\n",
    "        bv += compute_bv(params, pair)\n",
    "    return bv"
   ]
  },
  {
   "cell_type": "code",
   "execution_count": 69,
   "metadata": {
    "collapsed": true
   },
   "outputs": [],
   "source": [
    "def get_coordination_number(struct, formal_val={}):\n",
    "    print('This is {}'.format(struct.composition.reduced_formula))\n",
    "    cutoff = 6\n",
    "    elem_coord_dict = {}\n",
    "    for indx, site in enumerate(struct.sites):\n",
    "        neighbors = struct.get_neighbors(site, cutoff, include_index=True)\n",
    "        coordnum = 0\n",
    "        for buddy in neighbors:\n",
    "            atom = struct.species[indx].symbol\n",
    "            neighbor = struct.species[buddy[2]].symbol\n",
    "            if iscation(atom) and isanion(neighbor):\n",
    "                params = get_bv_params(cation=atom, anion=neighbor, \n",
    "                                       cat_val=float(formal_val[atom]), an_val=float(formal_val[neighbor]))\n",
    "                if compute_bv(params, buddy) > 0.09:\n",
    "                    coordnum += 1\n",
    "#                     print(compute_bv(params, buddy))\n",
    "            elif iscation(neighbor) and isanion(atom):\n",
    "                params = get_bv_params(cation=neighbor, anion=atom, \n",
    "                                       cat_val=float(formal_val[neighbor]), an_val=float(formal_val[atom]))\n",
    "                if compute_bv(params, buddy) > 0.09:\n",
    "                    coordnum += 1\n",
    "        if (site.species_and_occu.alphabetical_formula, coordnum) not in elem_coord_dict.items():            \n",
    "            print(\"Index: {}, Species: {}, Coordination: {}\".format(indx, \n",
    "                                                    site.species_and_occu.alphabetical_formula, coordnum))\n",
    "            elem_coord_dict[site.species_and_occu.alphabetical_formula] = coordnum"
   ]
  },
  {
   "cell_type": "code",
   "execution_count": 88,
   "metadata": {
    "scrolled": true
   },
   "outputs": [
    {
     "name": "stdout",
     "output_type": "stream",
     "text": [
      "Bond valence of Sr: 2.226524640873469\n",
      "Bond valence of La: 2.6902829999769224\n",
      "Bond valence of Sr: 2.2265246408734685\n",
      "Bond valence of La: 2.690282999976923\n",
      "Bond valence of Sr: 2.226524640873468\n",
      "Bond valence of La: 2.6902829999769216\n",
      "Bond valence of Sr: 2.226524640873468\n",
      "Bond valence of La: 2.6902829999769216\n",
      "Bond valence of Cr: 3.2345771910925123\n",
      "Bond valence of Cr: 3.2345771910925114\n",
      "Bond valence of O: 2.3256140960190073\n",
      "Bond valence of O: 2.3256140960190073\n",
      "Bond valence of O: 2.3256140960190086\n",
      "Bond valence of O: 2.3256140960190077\n",
      "Bond valence of O: 1.7500783199524421\n",
      "Bond valence of O: 1.7500783199524421\n",
      "Bond valence of O: 1.7500783199524432\n",
      "Bond valence of O: 1.7500783199524435\n",
      "GII: 0.23768457917988403\n"
     ]
    }
   ],
   "source": [
    "# Experiment with finding coordination numbers of specific compounds\n",
    "# BaTiO3 in space group 123 should return a value around 0.367\n",
    "df = pd.read_excel(\"../data/IMT_Classification_Dataset.xlsx\",sheetname=\"Combined_MIT+nonMIT\")\n",
    "df = df.loc[df['Compound'].str.len() < 10]\n",
    "df = df.loc[df['Compound'] == 'LaSrCrO4']\n",
    "valences = df['formal_val'].str.split(\"_\")\n",
    "df['unrounded_vals'] = valences.apply(pd.to_numeric)\n",
    "df['elems'] = df['Elements'].str.split(\"_\")\n",
    "def get_formal_vals(row):\n",
    "    return dict(zip(row['elems'], row['rounded_vals'])) \n",
    "    \n",
    "# df['formal_vals'] = df.apply(get_formal_vals, axis=1)\n",
    "\n",
    "gii_values = []\n",
    "for i in df.index:\n",
    "    struct = mg.Structure.from_file('..' + df.loc[i, \"struct_file_path\"])\n",
    "    rounded_vals = np.around(df.loc[i, 'unrounded_vals'])\n",
    "    formal_vals = dict(zip(df.loc[i, 'elems'], rounded_vals))\n",
    "    gii = gii_compute(struct, formal_vals)\n",
    "    print('GII: {}'.format(gii))\n",
    "#     formal_val = df.loc[i, 'formal_vals']\n",
    "#     try:\n",
    "#         get_coordination_number(struct, formal_vals)\n",
    "#     except:\n",
    "#         print('{} failed. Please manually inspect'.format(df.loc[i, 'Compound']))"
   ]
  },
  {
   "cell_type": "code",
   "execution_count": 18,
   "metadata": {},
   "outputs": [
    {
     "name": "stdout",
     "output_type": "stream",
     "text": [
      "0.144969973986\n",
      "0.233007360591\n",
      "0.247625686214\n",
      "0.188284156692\n",
      "0.288959998674\n",
      "0.246515419123\n",
      "0.263202793038\n",
      "0.0725749916364\n",
      "0.424285511985\n"
     ]
    },
    {
     "data": {
      "text/plain": [
       "0.50884629522149827"
      ]
     },
     "execution_count": 18,
     "metadata": {},
     "output_type": "execute_result"
    }
   ],
   "source": [
    "# Compute GII of one cif file\n",
    "struct = mg.Structure.from_file(\"../../../../Downloads/EntryWithCollCode173697.cif\")\n",
    "formal_vals = {'Sr': 2, 'Co': 3, 'O': -2}\n",
    "gii_compute(struct, formal_vals)"
   ]
  },
  {
   "cell_type": "code",
   "execution_count": 19,
   "metadata": {},
   "outputs": [
    {
     "data": {
      "text/plain": [
       "count    98.000000\n",
       "mean      0.196652\n",
       "std       0.147100\n",
       "min       0.001173\n",
       "25%       0.098722\n",
       "50%       0.167689\n",
       "75%       0.278412\n",
       "max       0.934954\n",
       "Name: gii, dtype: float64"
      ]
     },
     "execution_count": 19,
     "metadata": {},
     "output_type": "execute_result"
    }
   ],
   "source": [
    "df = pd.read_excel(\"../data/IMT_Classification_Dataset.xlsx\",sheetname=\"Combined_MIT+nonMIT\")\n",
    "df.gii.describe()"
   ]
  },
  {
   "cell_type": "code",
   "execution_count": 10,
   "metadata": {},
   "outputs": [
    {
     "data": {
      "text/plain": [
       "'Sr2Co2O5'"
      ]
     },
     "execution_count": 10,
     "metadata": {},
     "output_type": "execute_result"
    }
   ],
   "source": [
    "struct.composition.reduced_formula"
   ]
  },
  {
   "cell_type": "code",
   "execution_count": null,
   "metadata": {
    "collapsed": true
   },
   "outputs": [],
   "source": [
    "# Experiment with specific compounds\n",
    "# BaTiO3 in space group 123 should return a value around 0.367\n",
    "df = pd.read_excel(\"../data/Dataset.xlsx\",sheetname=\"Combined_MIT+nonMIT\")\n",
    "df = df.loc[df['Compound'].str.len() == 5]\n",
    "valences = df['formal_val'].str.split(\"_\")\n",
    "df['rounded_vals'] = valences.apply(pd.to_numeric)\n",
    "df['elems'] = df['Elements'].str.split(\"_\")\n",
    "def get_formal_vals(row):\n",
    "    return dict(zip(row['elems'], row['rounded_vals'])) \n",
    "    \n",
    "df['formal_vals'] = df.apply(get_formal_vals, axis=1)\n",
    "\n",
    "gii_values = []\n",
    "for i in df.index:\n",
    "    struct = mg.Structure.from_file('..' + df.loc[i, \"struct_file_path\"])\n",
    "    gii = gii_compute(struct, formal_val)\n",
    "    gii_values.append(gii)\n",
    "    formal_val = df.loc[i, 'formal_vals']\n",
    "    get_coordination_number(struct, formal_vals)\n",
    "    \n",
    "foo = pd.DataFrame(gii_values, columns=['GII'])\n",
    "foo['Compound'] = df['Compound'].values\n",
    "foo"
   ]
  },
  {
   "cell_type": "code",
   "execution_count": 16,
   "metadata": {
    "scrolled": true
   },
   "outputs": [
    {
     "name": "stdout",
     "output_type": "stream",
     "text": [
      "0.417804626242\n",
      "0.565686570494\n",
      "0.565686570494\n",
      "0.417804626242\n",
      "0.417804626242\n",
      "0.565686570494\n",
      "0.674096489801\n",
      "0.674096489801\n",
      "0.674096489801\n",
      "0.674096489801\n",
      "0.225180835515\n",
      "0.221636102623\n",
      "0.225180835515\n",
      "0.221636102623\n",
      "0.221636102623\n",
      "0.225180835515\n",
      "0.221636102623\n",
      "0.221636102623\n",
      "0.221636102623\n",
      "0.225180835515\n",
      "0.221636102623\n",
      "0.221636102623\n",
      "0.20372362245\n",
      "0.203539173723\n",
      "0.176611219762\n",
      "0.17676880087\n",
      "0.176611219762\n",
      "0.203539173723\n",
      "0.20372362245\n",
      "0.176611219762\n",
      "0.17676880087\n",
      "0.176611219762\n",
      "0.203354172219\n",
      "0.203354172219\n",
      "Attribute Error. You might have mixed occupations here in: Bi0.4Ca0.6MnO3\n",
      "0.233467122118\n",
      "0.661782255578\n",
      "0.233467122118\n",
      "0.233467122118\n",
      "0.233467122118\n",
      "0.233467122118\n",
      "0.233467122118\n",
      "0.661782255578\n",
      "Attribute Error. You might have mixed occupations here in: Ca2(FeAl)O5\n",
      "0.242626112297\n",
      "0.243365331484\n",
      "0.206414582993\n",
      "0.134954879472\n",
      "0.274799788393\n",
      "0.0716638911903\n",
      "0.355132997221\n",
      "0.346528864055\n",
      "0.0768777069814\n",
      "0.0489144069824\n",
      "0.353847299917\n",
      "0.423312691195\n",
      "0.0963997136455\n",
      "0.280610180852\n",
      "0.273346610954\n",
      "0.106681842596\n",
      "0.231508039428\n",
      "0.0826136029056\n",
      "0.198753098139\n",
      "0.0598065761911\n",
      "0.173205285187\n",
      "0.282446764323\n",
      "0.0598065761911\n",
      "0.198753098139\n",
      "0.173205285187\n",
      "0.282446764323\n",
      "0.28128882277\n",
      "0.445641180648\n",
      "0.0570754115509\n",
      "0.0848908890205\n",
      "0.185373483517\n",
      "0.0529831225269\n",
      "0.179102277127\n",
      "0.292665736311\n",
      "0.0529831225269\n",
      "0.185373483517\n",
      "0.179102277127\n",
      "0.292665736311\n",
      "0.238324495916\n",
      "0.368813204396\n",
      "0.064833538554\n",
      "Trouble with atom: Fe and neighbor: O in Ca4 Fe4 O12\n",
      "Looking for +/- 1 similar cation valence states in BV table\n",
      "No similar valence states found. Returning None\n",
      "0.167307091594\n",
      "0.167307091594\n",
      "0.167307091594\n",
      "0.167307091594\n",
      "0.167307091594\n",
      "0.167307091594\n",
      "0.167307091594\n",
      "0.167307091594\n",
      "0.167307091594\n",
      "0.167307091594\n",
      "0.167307091594\n",
      "0.167307091594\n",
      "0.294063108418\n",
      "0.294063108418\n",
      "0.294063108418\n",
      "0.294063108418\n",
      "0.294063108418\n",
      "0.294063108418\n",
      "0.414017752857\n",
      "0.414017752857\n",
      "0.414017752857\n",
      "0.414017752857\n",
      "0.414017752857\n",
      "0.414017752857\n",
      "Trouble with atom: Ce and neighbor: O in Ce4 O4\n",
      "Looking for +/- 1 similar cation valence states in BV table\n",
      "0.330653657087\n",
      "0.330653657087\n",
      "0.330653657087\n",
      "0.330653657087\n",
      "0.330653657087\n",
      "0.330653657087\n",
      "0.304879751394\n",
      "0.304879751394\n",
      "0.304879751394\n",
      "0.304879751394\n",
      "0.304879751394\n",
      "0.304879751394\n",
      "0.457671826848\n",
      "0.522175484664\n",
      "0.522175484664\n",
      "0.457671826848\n",
      "0.457671826848\n",
      "0.522175484664\n",
      "1.80475731225\n",
      "1.13282766959\n",
      "1.78515851994\n",
      "1.13282766959\n",
      "0.510759877205\n",
      "0.510759877205\n",
      "0.510759877205\n",
      "0.510759877205\n",
      "Trouble with atom: Ir and neighbor: S in Cu8 Ir16 S32\n",
      "Looking for +/- 1 similar cation valence states in BV table\n",
      "No similar valence states found. Returning None\n",
      "0.465328842179\n",
      "0.465328842179\n",
      "0.465328842179\n",
      "0.465328842179\n",
      "0.465328842179\n",
      "0.465328842179\n",
      "0.469367441887\n",
      "0.469367441887\n",
      "0.469367441887\n",
      "0.469367441887\n",
      "0.469367441887\n",
      "0.469367441887\n",
      "0.317923037496\n",
      "0.317923037496\n",
      "0.317923037496\n",
      "0.317923037496\n",
      "0.317923037496\n",
      "0.317923037496\n",
      "0.380873275884\n",
      "0.603801670576\n",
      "0.603801670576\n",
      "0.380873275884\n",
      "0.380873275884\n",
      "0.603801670576\n",
      "0.445440331018\n",
      "0.445440331018\n",
      "0.445440331018\n",
      "0.445440331018\n",
      "0.445440331018\n",
      "0.445440331018\n",
      "0.313655678678\n",
      "0.313655678678\n",
      "0.313655678678\n",
      "0.313655678678\n",
      "0.313655678678\n",
      "0.313655678678\n",
      "0.356131907053\n",
      "0.397936481757\n",
      "0.359036638221\n",
      "0.426219870611\n",
      "0.356131907053\n",
      "0.397936481757\n"
     ]
    },
    {
     "ename": "AttributeError",
     "evalue": "'float' object has no attribute 'split'",
     "output_type": "error",
     "traceback": [
      "\u001b[1;31m---------------------------------------------------------------------------\u001b[0m",
      "\u001b[1;31mAttributeError\u001b[0m                            Traceback (most recent call last)",
      "\u001b[1;32m<ipython-input-16-54920bc09d24>\u001b[0m in \u001b[0;36m<module>\u001b[1;34m()\u001b[0m\n\u001b[0;32m     16\u001b[0m \u001b[1;32mfor\u001b[0m \u001b[0mi\u001b[0m \u001b[1;32min\u001b[0m \u001b[0mdf\u001b[0m\u001b[1;33m.\u001b[0m\u001b[0mindex\u001b[0m\u001b[1;33m:\u001b[0m\u001b[1;33m\u001b[0m\u001b[0m\n\u001b[0;32m     17\u001b[0m     \u001b[0mstruct\u001b[0m \u001b[1;33m=\u001b[0m \u001b[0mmg\u001b[0m\u001b[1;33m.\u001b[0m\u001b[0mStructure\u001b[0m\u001b[1;33m.\u001b[0m\u001b[0mfrom_file\u001b[0m\u001b[1;33m(\u001b[0m\u001b[1;34m'..'\u001b[0m \u001b[1;33m+\u001b[0m \u001b[0mdf\u001b[0m\u001b[1;33m.\u001b[0m\u001b[0mloc\u001b[0m\u001b[1;33m[\u001b[0m\u001b[0mi\u001b[0m\u001b[1;33m,\u001b[0m \u001b[1;34m\"struct_file_path\"\u001b[0m\u001b[1;33m]\u001b[0m\u001b[1;33m)\u001b[0m\u001b[1;33m\u001b[0m\u001b[0m\n\u001b[1;32m---> 18\u001b[1;33m     \u001b[0mvalences\u001b[0m \u001b[1;33m=\u001b[0m \u001b[0mdf\u001b[0m\u001b[1;33m.\u001b[0m\u001b[0miloc\u001b[0m\u001b[1;33m[\u001b[0m\u001b[1;33m[\u001b[0m\u001b[0mi\u001b[0m\u001b[1;33m]\u001b[0m\u001b[1;33m]\u001b[0m\u001b[1;33m[\u001b[0m\u001b[1;34m'formal_val'\u001b[0m\u001b[1;33m]\u001b[0m\u001b[1;33m.\u001b[0m\u001b[0mtolist\u001b[0m\u001b[1;33m(\u001b[0m\u001b[1;33m)\u001b[0m\u001b[1;33m[\u001b[0m\u001b[1;36m0\u001b[0m\u001b[1;33m]\u001b[0m\u001b[1;33m.\u001b[0m\u001b[0msplit\u001b[0m\u001b[1;33m(\u001b[0m\u001b[1;34m\"_\"\u001b[0m\u001b[1;33m)\u001b[0m\u001b[1;33m\u001b[0m\u001b[0m\n\u001b[0m\u001b[0;32m     19\u001b[0m     \u001b[0mrounded_vals\u001b[0m \u001b[1;33m=\u001b[0m \u001b[0mnp\u001b[0m\u001b[1;33m.\u001b[0m\u001b[0maround\u001b[0m\u001b[1;33m(\u001b[0m\u001b[0mnp\u001b[0m\u001b[1;33m.\u001b[0m\u001b[0marray\u001b[0m\u001b[1;33m(\u001b[0m\u001b[0mvalences\u001b[0m\u001b[1;33m)\u001b[0m\u001b[1;33m.\u001b[0m\u001b[0mastype\u001b[0m\u001b[1;33m(\u001b[0m\u001b[0mfloat\u001b[0m\u001b[1;33m)\u001b[0m\u001b[1;33m)\u001b[0m\u001b[1;33m\u001b[0m\u001b[0m\n\u001b[0;32m     20\u001b[0m     formal_val = dict(zip(df.iloc[[i]]['Elements'].tolist()[0].split(\"_\"), \n",
      "\u001b[1;31mAttributeError\u001b[0m: 'float' object has no attribute 'split'"
     ]
    }
   ],
   "source": [
    "# Calculate GII for all compounds in your dataset\n",
    "# Requires one column with elements (e.g. Ba_Ti_O),\n",
    "# one column with the structure path (e.g. ./Structures/BaTiO3.cif),\n",
    "# and one column with the formal valences (e.g. 2_4_-2).\n",
    "# Does not work with disordered compounds due to a Pymatgen limitation\n",
    "# Sites with mixed valence will have their valence state rounded to the nearest integer\n",
    "# Output saved to GII_temp.csv in data folder\n",
    "try:\n",
    "    df = pd.read_excel(\"../data/Dataset.xlsx\",sheetname=\"Combined_MIT+nonMIT\", \n",
    "                       usecols=['Compound', 'formal_val', 'Elements', 'struct_file_path'])\n",
    "#     df = df.loc[df['Insulator'] < 2]\n",
    "except:\n",
    "    print(\"Define df to be your dataset path in the code!\")\n",
    "\n",
    "gii_values = []\n",
    "for i in df.index:\n",
    "    struct = mg.Structure.from_file('..' + df.loc[i, \"struct_file_path\"])\n",
    "    valences = df.iloc[[i]]['formal_val'].tolist()[0].split(\"_\")\n",
    "    rounded_vals = np.around(np.array(valences).astype(float))\n",
    "    formal_val = dict(zip(df.iloc[[i]]['Elements'].tolist()[0].split(\"_\"), \n",
    "                      rounded_vals))\n",
    "    name=df.loc[i,'Compound']\n",
    "    try:\n",
    "        gii = gii_compute(struct, formal_val)\n",
    "        gii_values.append(gii)\n",
    "    except AttributeError:\n",
    "        print(\"Attribute Error. You might have mixed occupations here in: {}\".format(name))\n",
    "        gii_values.append(None)\n",
    "df['gii'] = gii_values\n",
    "df.to_csv(\"../data/GII_temp.csv\")    "
   ]
  },
  {
   "cell_type": "code",
   "execution_count": null,
   "metadata": {
    "collapsed": true
   },
   "outputs": [],
   "source": [
    "# Generate Prasanna's chemistries from doi:10.1038/ncomms14282 and calculate their tolerance factors\n",
    "# for Danilo\n",
    "chem_ids = pd.read_excel(\"../../RP_tolerance_factors/Site_IDs.xlsx\", sheetname='Sheet1')\n",
    "asites = chem_ids.ix[:, 0:3]\n",
    "bsites = chem_ids.ix[0:25, 3:]\n",
    "# print(asites)\n",
    "def generate_chem(asites, bsites):\n",
    "    import itertools\n",
    "    acombos = list(itertools.combinations(asites.AsiteID, 2)) # Find unique combinations of A and A' sites\n",
    "    df = pd.DataFrame(columns=['A1', 'A2', 'B', 'X', 'A1_valence', 'A2_valence', 'B_valence', 'X_valence'])\n",
    "    for apair in acombos:        \n",
    "        a1_info = asites[asites['AsiteID'] == apair[0]][['ElemA', 'Avalence']]\n",
    "        a2_info = asites[asites['AsiteID'] == apair[1]][['ElemA', 'Avalence']]\n",
    "        \n",
    "        a1_info.rename(index=str, columns={'ElemA': 'A1', 'Avalence': 'A1_valence'}, inplace=True)\n",
    "        a2_info.rename(index=str, columns={'ElemA': 'A2', 'Avalence': 'A2_valence'}, inplace=True)\n",
    "        a_sites = a1_info\n",
    "        a_sites['A2'] = a2_info['A2'].values\n",
    "        a_sites['A2_valence'] = a2_info['A2_valence'].values\n",
    "        for index, bsite in bsites.iterrows():\n",
    "            row = a_sites\n",
    "            row['B'] = bsite['ElemB']\n",
    "            row['B_valence'] = bsite['Bvalence']\n",
    "            row['X'] = 'O'\n",
    "            row['X_valence'] = -2\n",
    "            df = df.append(row) \n",
    "    return df        \n",
    "#                       row.ElemB, row.Bvalence\n",
    "\n",
    "            \n",
    "crazy_chems = generate_chem(asites, bsites)\n",
    "sane_chems = crazy_chems[crazy_chems['A1_valence'] + crazy_chems['A2_valence'] + crazy_chems['B_valence'] == 8]\n",
    "sane_chems = sane_chems[(sane_chems['A1'] != 'Pm') & (sane_chems['A2'] != 'Pm')]\n",
    "sane_chems.to_csv(\"./Compounds_forDanilo.csv\")\n",
    "sane_chems.tail()    "
   ]
  },
  {
   "cell_type": "code",
   "execution_count": null,
   "metadata": {
    "collapsed": true
   },
   "outputs": [],
   "source": [
    "# Generate Prasanna's chemistries from doi:10.1038/ncomms14282 for the Mobilities Project for Ken's perusal\n",
    "chem_ids = pd.read_excel(\"../../RP_tolerance_factors/Site_IDs.xlsx\", sheetname='Sheet2') # Sheet 2 is reduced\n",
    "if chem_ids.shape[0] == 30:\n",
    "    asites = chem_ids[['ElemA', 'Avalence']].iloc[:]\n",
    "    bsites = chem_ids[['ElemB', 'Bvalence']].iloc[0:26]\n",
    "else:\n",
    "    asites = chem_ids[['ElemA', 'Avalence']].iloc[0:14]\n",
    "    bsites = chem_ids[['ElemB', 'Bvalence']].iloc[:]\n",
    "\n",
    "\n",
    "def generate_perov_chem(asites, bsites):\n",
    "    import itertools\n",
    "    df = pd.DataFrame(columns=['A', 'B', 'X', 'A_valence', 'B_valence', 'X_valence'])        \n",
    "    asites.rename(index=str, columns={'ElemA': 'A', 'Avalence': 'A_valence'}, inplace=True)\n",
    "    for index, asite in asites.iterrows():\n",
    "\n",
    "        for index, bsite in bsites.iterrows():\n",
    "            row = asite\n",
    "            row['B'] = bsite['ElemB']\n",
    "            row['B_valence'] = bsite['Bvalence']\n",
    "            row['X'] = 'O'\n",
    "            row['X_valence'] = -2\n",
    "            df = df.append(row) \n",
    "    return df        \n",
    "\n",
    "            \n",
    "crazy_chems = generate_perov_chem(asites, bsites)\n",
    "sane_chems = crazy_chems[crazy_chems['A_valence'] + crazy_chems['B_valence'] == 6]\n",
    "sane_chems = sane_chems[(sane_chems['A'] != 'Pm')]\n",
    "if chem_ids.shape[0] == 30:\n",
    "    sane_chems.to_csv(\"../data/PotentialCompounds_extended.csv\")\n",
    "else:\n",
    "    sane_chems.to_csv(\"../data/PotentialCompounds.csv\")\n",
    "sane_chems.tail()    "
   ]
  },
  {
   "cell_type": "code",
   "execution_count": null,
   "metadata": {
    "collapsed": true
   },
   "outputs": [],
   "source": []
  },
  {
   "cell_type": "code",
   "execution_count": null,
   "metadata": {
    "collapsed": true
   },
   "outputs": [],
   "source": [
    "sane_chems.head()"
   ]
  },
  {
   "cell_type": "code",
   "execution_count": null,
   "metadata": {
    "collapsed": true,
    "scrolled": true
   },
   "outputs": [],
   "source": [
    "# Calculate tolerance factors for Danilo\n",
    "sane_chems = pd.read_csv(\"./Compounds_forDanilo.csv\", index_col=0)\n",
    "df = sane_chems\n",
    "\n",
    "tol_factors = []\n",
    "for i in range(len(sane_chems.index)):\n",
    "    ion_list = [df.loc[i, 'A1'], df.loc[i, 'A2'], df.loc[i, 'B'], df.loc[i, 'X']]\n",
    "    valence_list = [int(df.loc[i, 'A1_valence']), int(df.loc[i, 'A2_valence']), \n",
    "                    int(df.loc[i, 'B_valence']), int(df.loc[i, 'X_valence'])]\n",
    "    try:        \n",
    "        tol_fact = calc_tol_factor(ion_list, valence_list, rp=1)\n",
    "    except(AttributeError):\n",
    "        print(\"Your compound: {} had an issue and will not be calculated\".format(ion_list))\n",
    "    tol_factors.append(tol_fact)\n",
    "    \n",
    "df_tol = pd.DataFrame(tol_factors, columns=['Tol_factor'])\n",
    "\n",
    "df['Tol_factor'] = df_tol\n",
    "df.head()"
   ]
  },
  {
   "cell_type": "code",
   "execution_count": null,
   "metadata": {
    "collapsed": true
   },
   "outputs": [],
   "source": [
    "df.to_csv(\"./Compounds_forDanilo.csv\")"
   ]
  },
  {
   "cell_type": "code",
   "execution_count": null,
   "metadata": {
    "collapsed": true
   },
   "outputs": [],
   "source": [
    "df.describe()"
   ]
  },
  {
   "cell_type": "code",
   "execution_count": null,
   "metadata": {
    "collapsed": true
   },
   "outputs": [],
   "source": [
    "# df = pd.DataFrame(columns=['A1', 'A2', 'B', 'X', 'A1_valence', 'A2_valence', 'B_valence', 'X_valence'])\n",
    "# arr = np.array([10, 20]).reshape(1,2)\n",
    "# foo = pd.DataFrame(arr, columns=['A1','A1_valence'])\n",
    "# df = df.append(foo)\n",
    "df.tail()"
   ]
  },
  {
   "cell_type": "code",
   "execution_count": null,
   "metadata": {
    "collapsed": true
   },
   "outputs": [],
   "source": [
    "# Test using BaMnO3\n",
    "print(calc_tol_factor(['Ba', 'Mn','O'], ['2+', '4+', '2-']))\n",
    "print(calc_tol_factor(['Ba', 'Mn','O'], ['2+', '4+', '2-'], rp=2))"
   ]
  },
  {
   "cell_type": "code",
   "execution_count": null,
   "metadata": {
    "collapsed": true
   },
   "outputs": [],
   "source": [
    "# Compare vanadate tolerance factors calculated with my code to that of Nicole Benedek's\n",
    "names = ['Yb','Dy','Ho','Y','Tb','Gd', 'Eu','Sm','Nd','Pr','Ce','La']\n",
    "nicole = [0.883, 0.901, 0.897, 0.827, 0.906, 0.912, 0.916, 0.92, 0.93, 0.936, 0.942, 0.95]\n",
    "nick = []\n",
    "for name in names:\n",
    "    nick.append(float('{:0.3f}'.format(calc_tol_factor([name, 'V','O'], ['3+', '3+', '2-']))))\n",
    "d = {'nicole': nicole, 'nick': nick}\n",
    "vanadates = pd.DataFrame(data=d ,index=names)\n",
    "vanadates"
   ]
  },
  {
   "cell_type": "code",
   "execution_count": null,
   "metadata": {
    "collapsed": true,
    "scrolled": true
   },
   "outputs": [],
   "source": [
    "ax = vanadates.plot.bar(figsize=(16,14),fontsize=32)\n",
    "ax.set_ylabel('Tolerance Factor', fontsize=32)\n",
    "ax.set_ylim(0.8, 1)\n",
    "ax.legend(fontsize=32)\n",
    "ax.set_title('Vanadate Tolerance Factors', fontsize=36)\n",
    "plt.show()"
   ]
  },
  {
   "cell_type": "code",
   "execution_count": null,
   "metadata": {
    "collapsed": true,
    "scrolled": true
   },
   "outputs": [],
   "source": [
    "nickels = ['Lu', 'Y', 'Dy', 'Gd', 'Eu', 'Sm', 'Nd', 'Pr', 'La']\n",
    "nicole = [0.904, 0.851, 0.928, 0.938, 0.942, 0.947, 0.957, 0.964, 0.977]\n",
    "nick= []\n",
    "for nickel in nickels:\n",
    "    nick.append(float('{:0.3f}'.format(calc_tol_factor([nickel, 'Ni','O'], ['3+', '3+', '2-']))))\n",
    "\n",
    "d = {'nicole': nicole, 'nick': nick}\n",
    "nickelates = pd.DataFrame(data=d, index=nickels)\n",
    "ax = nickelates.plot.bar(figsize=(16,14),fontsize=32)\n",
    "ax.set_ylabel('Tolerance Factor', fontsize=32)\n",
    "ax.set_ylim(0.8, 1)\n",
    "ax.legend(fontsize=32)\n",
    "ax.set_title('Nickelate Tolerance Factors', fontsize=36)\n",
    "plt.show()"
   ]
  }
 ],
 "metadata": {
  "kernelspec": {
   "display_name": "Python 3",
   "language": "python",
   "name": "python3"
  },
  "language_info": {
   "codemirror_mode": {
    "name": "ipython",
    "version": 3
   },
   "file_extension": ".py",
   "mimetype": "text/x-python",
   "name": "python",
   "nbconvert_exporter": "python",
   "pygments_lexer": "ipython3",
   "version": "3.6.2"
  }
 },
 "nbformat": 4,
 "nbformat_minor": 2
}
